{
 "cells": [
  {
   "cell_type": "code",
   "execution_count": 1,
   "metadata": {},
   "outputs": [
    {
     "name": "stderr",
     "output_type": "stream",
     "text": [
      "\n",
      "Bad key \"text.kerning_factor\" on line 4 in\n",
      "/Users/yhannnn/opt/anaconda3/lib/python3.7/site-packages/matplotlib/mpl-data/stylelib/_classic_test_patch.mplstyle.\n",
      "You probably need to get an updated matplotlibrc file from\n",
      "https://github.com/matplotlib/matplotlib/blob/v3.1.3/matplotlibrc.template\n",
      "or from the matplotlib source distribution\n"
     ]
    }
   ],
   "source": [
    "import os\n",
    "import pandas as pd\n",
    "import numpy as np\n",
    "from sklearn.metrics import mean_absolute_error, r2_score\n",
    "from fairlearn.metrics import MetricFrame\n",
    "from sklearn import metrics as skm\n",
    "import seaborn as sns\n",
    "import os.path as path\n",
    "import matplotlib.pyplot as plt\n",
    "import geopandas as gpd\n",
    "from shapely.geometry import Point, Polygon\n",
    "import os, csv, shapely, shapely.wkt, descartes, geopy, pickle, cloudpickle\n",
    "from os import listdir\n",
    "from os.path import isfile, join\n",
    "pd.set_option('display.max_rows', 10)\n",
    "sns.set()\n",
    "sns.color_palette(\"ch:s=.25,rot=-.25\")\n",
    "np.set_printoptions(suppress=True)\n",
    "# pd.options.display.float_format = '{:.2f}'.format"
   ]
  },
  {
   "cell_type": "code",
   "execution_count": 2,
   "metadata": {},
   "outputs": [],
   "source": [
    "# NEED MODIFY\n",
    "EPOCH = 120\n",
    "LAMBDA = 0.2\n",
    "FOLDER = 'fairst_all_models/e_120_lambda_0_2'\n",
    "PRED_FILE_NAME = \"fused_model_pred_0.2_1640929879.8990524.csv\""
   ]
  },
  {
   "cell_type": "code",
   "execution_count": 3,
   "metadata": {},
   "outputs": [],
   "source": [
    "CITY = \"P_\"\n",
    "save_dir = CITY + 'res/'\n",
    "save_dir_preprocess = os.path.join(save_dir, CITY + 'preprocess_fig/')\n",
    "save_dir_models = os.path.join(save_dir, CITY + 'model_res/') \n",
    "save_dir_forecast = os.path.join(save_dir, CITY + 'forecast/')\n",
    "save_dir_fairst = os.path.join(save_dir, CITY + 'fairst/')\n",
    "\n",
    "if not os.path.exists(save_dir):\n",
    "    os.makedirs(save_dir)\n",
    "    \n",
    "if not os.path.exists(save_dir_preprocess):\n",
    "    os.makedirs(save_dir_preprocess)\n",
    "\n",
    "if not os.path.exists(save_dir_models):\n",
    "    os.makedirs(save_dir_models)\n",
    "    \n",
    "if not os.path.exists(save_dir_forecast):\n",
    "    os.makedirs(save_dir_forecast)\n",
    "    \n",
    "if not os.path.exists(save_dir_fairst):\n",
    "    os.makedirs(save_dir_fairst)"
   ]
  },
  {
   "cell_type": "code",
   "execution_count": 4,
   "metadata": {},
   "outputs": [],
   "source": [
    "pred_df = pd.read_csv(os.path.join(save_dir_fairst, FOLDER, PRED_FILE_NAME), index_col = 0)\n",
    "gt_df = pd.read_csv(os.path.join(save_dir_fairst, \"test_df_cut.csv\"), index_col = 0)\n",
    "pos_info = pd.read_csv(os.path.join(save_dir_fairst, \"df_demo.csv\"), index_col = 0)\n",
    "income_info = pd.read_csv(os.path.join(save_dir_fairst, \"df_income.csv\"), index_col = 0)\n",
    "income_info = income_info.groupby(by = \"cell_num\").mean().reset_index()\n",
    "income_info.income_group = income_info.income_group.astype(int)\n",
    "demo_raw = pd.read_csv(os.path.join(save_dir_fairst, \"demo_raw.csv\"))\n",
    "pred_df.index = pd.to_datetime(pred_df.index)\n",
    "gt_df.index = pd.to_datetime(gt_df.index)\n",
    "gt_df = gt_df[gt_df.index.isin(pred_df.index)]\n",
    "normalized_pop_df = pd.read_csv(os.path.join(save_dir_fairst, \"normalized_pop_df.csv\"), index_col = 0)"
   ]
  },
  {
   "cell_type": "code",
   "execution_count": 5,
   "metadata": {},
   "outputs": [],
   "source": [
    "def df_transform(df):\n",
    "    pos_l = df.columns\n",
    "    df_trans = pd.DataFrame(columns = [\"pos\", \"outflow\"])\n",
    "\n",
    "    for i in np.arange(len(pos_l)):\n",
    "        pos = pos_l[i]\n",
    "        temp = df[pos].to_frame()\n",
    "        temp[\"pos\"] = [temp.columns.values[0]]*len(temp)\n",
    "        temp.rename(columns = {pos: \"outflow\"}, inplace = True)\n",
    "        df_trans = df_trans.append(temp)\n",
    "        \n",
    "    return df_trans"
   ]
  },
  {
   "cell_type": "code",
   "execution_count": 6,
   "metadata": {},
   "outputs": [],
   "source": [
    "pred_df_month = pred_df.groupby(pred_df.index.month).sum()\n",
    "gt_df = gt_df[gt_df.index.isin(pred_df.index)]\n",
    "gt_df_month = gt_df.groupby(gt_df.index.month).sum()"
   ]
  },
  {
   "cell_type": "code",
   "execution_count": 7,
   "metadata": {},
   "outputs": [],
   "source": [
    "df_pred_trans = df_transform(pred_df_month)\n",
    "df_gt_trans = df_transform(gt_df_month)\n",
    "gt_final = df_gt_trans.merge(pos_info)\n",
    "pred_final = df_pred_trans.merge(pos_info)\n",
    "\n",
    "pred_final_m = pred_final.merge(income_info, on = 'cell_num')\n",
    "gt_final_m = gt_final.merge(income_info, on = 'cell_num')\n",
    "\n",
    "gt_final_m.outflow = gt_final_m.outflow.astype(int)"
   ]
  },
  {
   "cell_type": "code",
   "execution_count": 8,
   "metadata": {},
   "outputs": [
    {
     "data": {
      "text/html": [
       "<div>\n",
       "<style scoped>\n",
       "    .dataframe tbody tr th:only-of-type {\n",
       "        vertical-align: middle;\n",
       "    }\n",
       "\n",
       "    .dataframe tbody tr th {\n",
       "        vertical-align: top;\n",
       "    }\n",
       "\n",
       "    .dataframe thead th {\n",
       "        text-align: right;\n",
       "    }\n",
       "</style>\n",
       "<table border=\"1\" class=\"dataframe\">\n",
       "  <thead>\n",
       "    <tr style=\"text-align: right;\">\n",
       "      <th></th>\n",
       "      <th>pos</th>\n",
       "      <th>outflow</th>\n",
       "      <th>cell_num</th>\n",
       "      <th>geometry</th>\n",
       "      <th>income_group</th>\n",
       "    </tr>\n",
       "  </thead>\n",
       "  <tbody>\n",
       "    <tr>\n",
       "      <th>0</th>\n",
       "      <td>18_19</td>\n",
       "      <td>13.498939</td>\n",
       "      <td>595</td>\n",
       "      <td>POLYGON ((-80.01729329947142 40.44883540123336...</td>\n",
       "      <td>0</td>\n",
       "    </tr>\n",
       "    <tr>\n",
       "      <th>1</th>\n",
       "      <td>18_19</td>\n",
       "      <td>34.367158</td>\n",
       "      <td>595</td>\n",
       "      <td>POLYGON ((-80.01729329947142 40.44883540123336...</td>\n",
       "      <td>0</td>\n",
       "    </tr>\n",
       "    <tr>\n",
       "      <th>2</th>\n",
       "      <td>18_19</td>\n",
       "      <td>49.612368</td>\n",
       "      <td>595</td>\n",
       "      <td>POLYGON ((-80.01729329947142 40.44883540123336...</td>\n",
       "      <td>0</td>\n",
       "    </tr>\n",
       "    <tr>\n",
       "      <th>3</th>\n",
       "      <td>18_19</td>\n",
       "      <td>60.775718</td>\n",
       "      <td>595</td>\n",
       "      <td>POLYGON ((-80.01729329947142 40.44883540123336...</td>\n",
       "      <td>0</td>\n",
       "    </tr>\n",
       "    <tr>\n",
       "      <th>4</th>\n",
       "      <td>18_19</td>\n",
       "      <td>58.059551</td>\n",
       "      <td>595</td>\n",
       "      <td>POLYGON ((-80.01729329947142 40.44883540123336...</td>\n",
       "      <td>0</td>\n",
       "    </tr>\n",
       "    <tr>\n",
       "      <th>...</th>\n",
       "      <td>...</td>\n",
       "      <td>...</td>\n",
       "      <td>...</td>\n",
       "      <td>...</td>\n",
       "      <td>...</td>\n",
       "    </tr>\n",
       "    <tr>\n",
       "      <th>831</th>\n",
       "      <td>43_20</td>\n",
       "      <td>0.000000</td>\n",
       "      <td>1396</td>\n",
       "      <td>POLYGON ((-79.90252358604248 40.45342618977051...</td>\n",
       "      <td>0</td>\n",
       "    </tr>\n",
       "    <tr>\n",
       "      <th>832</th>\n",
       "      <td>43_20</td>\n",
       "      <td>0.000000</td>\n",
       "      <td>1396</td>\n",
       "      <td>POLYGON ((-79.90252358604248 40.45342618977051...</td>\n",
       "      <td>0</td>\n",
       "    </tr>\n",
       "    <tr>\n",
       "      <th>833</th>\n",
       "      <td>43_20</td>\n",
       "      <td>0.000000</td>\n",
       "      <td>1396</td>\n",
       "      <td>POLYGON ((-79.90252358604248 40.45342618977051...</td>\n",
       "      <td>0</td>\n",
       "    </tr>\n",
       "    <tr>\n",
       "      <th>834</th>\n",
       "      <td>43_20</td>\n",
       "      <td>0.000000</td>\n",
       "      <td>1396</td>\n",
       "      <td>POLYGON ((-79.90252358604248 40.45342618977051...</td>\n",
       "      <td>0</td>\n",
       "    </tr>\n",
       "    <tr>\n",
       "      <th>835</th>\n",
       "      <td>43_20</td>\n",
       "      <td>0.000000</td>\n",
       "      <td>1396</td>\n",
       "      <td>POLYGON ((-79.90252358604248 40.45342618977051...</td>\n",
       "      <td>0</td>\n",
       "    </tr>\n",
       "  </tbody>\n",
       "</table>\n",
       "<p>836 rows × 5 columns</p>\n",
       "</div>"
      ],
      "text/plain": [
       "       pos    outflow  cell_num  \\\n",
       "0    18_19  13.498939       595   \n",
       "1    18_19  34.367158       595   \n",
       "2    18_19  49.612368       595   \n",
       "3    18_19  60.775718       595   \n",
       "4    18_19  58.059551       595   \n",
       "..     ...        ...       ...   \n",
       "831  43_20   0.000000      1396   \n",
       "832  43_20   0.000000      1396   \n",
       "833  43_20   0.000000      1396   \n",
       "834  43_20   0.000000      1396   \n",
       "835  43_20   0.000000      1396   \n",
       "\n",
       "                                              geometry  income_group  \n",
       "0    POLYGON ((-80.01729329947142 40.44883540123336...             0  \n",
       "1    POLYGON ((-80.01729329947142 40.44883540123336...             0  \n",
       "2    POLYGON ((-80.01729329947142 40.44883540123336...             0  \n",
       "3    POLYGON ((-80.01729329947142 40.44883540123336...             0  \n",
       "4    POLYGON ((-80.01729329947142 40.44883540123336...             0  \n",
       "..                                                 ...           ...  \n",
       "831  POLYGON ((-79.90252358604248 40.45342618977051...             0  \n",
       "832  POLYGON ((-79.90252358604248 40.45342618977051...             0  \n",
       "833  POLYGON ((-79.90252358604248 40.45342618977051...             0  \n",
       "834  POLYGON ((-79.90252358604248 40.45342618977051...             0  \n",
       "835  POLYGON ((-79.90252358604248 40.45342618977051...             0  \n",
       "\n",
       "[836 rows x 5 columns]"
      ]
     },
     "execution_count": 8,
     "metadata": {},
     "output_type": "execute_result"
    }
   ],
   "source": [
    "pred_final_m"
   ]
  },
  {
   "cell_type": "code",
   "execution_count": 9,
   "metadata": {},
   "outputs": [
    {
     "name": "stdout",
     "output_type": "stream",
     "text": [
      "R^2     0.631441\n",
      "MAE    51.207294\n",
      "dtype: object\n",
      "------------------------------\n",
      "                   R^2        MAE\n",
      "income_group                     \n",
      "0             0.673318   38.87095\n",
      "1             0.580195  62.911005\n",
      "\n",
      "R^2 diff: 0.09312278676505203\n",
      "MAE diff: 24.040054873157743\n",
      "------------------------------\n"
     ]
    },
    {
     "data": {
      "image/png": "[encoded data removed]",
      "text/plain": [
       "<Figure size 576x432 with 2 Axes>"
      ]
     },
     "metadata": {},
     "output_type": "display_data"
    }
   ],
   "source": [
    "metric_frame_fairST = MetricFrame(metric = {\"R^2\": skm.r2_score,\n",
    "                                           \"MAE\": skm.mean_absolute_error},\n",
    "                                           sensitive_features = pred_final_m.income_group,\n",
    "                                           y_true = gt_final_m.outflow,\n",
    "                                           y_pred = pred_final_m.outflow)\n",
    "\n",
    "print(metric_frame_fairST.overall)\n",
    "print(\"-\"*30)\n",
    "print(metric_frame_fairST.by_group)\n",
    "print()\n",
    "print(\"R^2 diff:\",metric_frame_fairST.difference()[\"R^2\"])\n",
    "print(\"MAE diff:\", metric_frame_fairST.difference()[\"MAE\"])\n",
    "print(\"-\"*30)\n",
    "# print(\"RFG:\", rfg_calc(y_pred_eg, y_test, normalized_pop_df, y_test_cell_num))\n",
    "\n",
    "metric_frame_fairST.by_group.plot.bar(\n",
    "        subplots=True, layout=[2, 1], legend=False, figsize=[8, 6],\n",
    "        title='fairST_' + str(LAMBDA), fontsize = 15)\n",
    "\n",
    "plt.savefig(os.path.join(save_dir_fairst, FOLDER, \"fair_st_metric\"))"
   ]
  },
  {
   "cell_type": "code",
   "execution_count": 10,
   "metadata": {},
   "outputs": [],
   "source": [
    "normalized_pop_df[\"cell_num\"] = normalized_pop_df.index\n",
    "cell2group_df = gt_final_m.groupby(\"cell_num\").mean().reset_index()\n",
    "cell2group_df[\"income_group\"] = cell2group_df[\"income_group\"].astype(int)\n",
    "cell_pop_df = normalized_pop_df.merge(cell2group_df, on = \"cell_num\")\n",
    "\n",
    "g1_pop = cell_pop_df[cell_pop_df[\"income_group\"] == 1].normalized_pop.sum()\n",
    "g2_pop = cell_pop_df[cell_pop_df[\"income_group\"] == 0].normalized_pop.sum()\n",
    "group_index = pred_final_m.income_group\n",
    "g1_pred = pred_final_m.outflow[group_index[group_index == 1].index]\n",
    "g2_pred = pred_final_m.outflow[group_index[group_index == 0].index]\n",
    "\n",
    "bike_g1 = g1_pred.sum() / len(pred_final_m.outflow)\n",
    "bike_g2 = g2_pred.sum()/ len(pred_final_m.outflow)\n",
    "rfg = bike_g1 /g1_pop - bike_g2 /g2_pop"
   ]
  },
  {
   "cell_type": "code",
   "execution_count": 11,
   "metadata": {},
   "outputs": [],
   "source": [
    "PATH1 = os.path.join(save_dir_fairst, \"fairst_all_models\", CITY + \"fairst_summary.csv\")\n",
    "\n",
    "if path.exists(PATH1):\n",
    "    fairst_summary = pd.read_csv(PATH1, index_col = 0)\n",
    "else:\n",
    "    fairst_summary = pd.DataFrame(columns = [ \"epoch\", \"lambda\", \"r2\", \"r2_diff\", \"mae\", \"mae_diff\", \"rfg\"])"
   ]
  },
  {
   "cell_type": "code",
   "execution_count": 5,
   "metadata": {},
   "outputs": [],
   "source": [
    "new_row = {\"epoch\": EPOCH,\n",
    "            \"lambda\": LAMBDA,\n",
    "           \"r2\": metric_frame_fairST.overall[\"R^2\"],\n",
    "           \"r2_diff\": metric_frame_fairST.difference()[\"R^2\"],\n",
    "           \"mae\": metric_frame_fairST.overall[\"MAE\"],\n",
    "           \"mae_diff\":metric_frame_fairST.difference()[\"MAE\"],\n",
    "           \"rfg\": rfg}\n",
    "\n",
    "fairst_summary = fairst_summary.append(new_row, ignore_index = True)\n",
    "fairst_summary = fairst_summary.sort_values(\"lambda\")\n",
    "fairst_summary.reset_index(drop = True, inplace = True)\n",
    "fairst_summary.to_csv(PATH1)"
   ]
  },
  {
   "cell_type": "markdown",
   "metadata": {},
   "source": [
    "### append fairST to scatter plot"
   ]
  },
  {
   "cell_type": "code",
   "execution_count": 13,
   "metadata": {},
   "outputs": [],
   "source": [
    "PATH2 = os.path.join(save_dir_models, CITY + \"model_summary.csv\")\n",
    "if path.exists(PATH2):\n",
    "    model_summary = pd.read_csv(PATH2, index_col = 0)\n",
    "else:\n",
    "    print(\"NO FILE\")"
   ]
  },
  {
   "cell_type": "code",
   "execution_count": 14,
   "metadata": {},
   "outputs": [],
   "source": [
    "fairst_summary_plt = fairst_summary"
   ]
  },
  {
   "cell_type": "code",
   "execution_count": 4,
   "metadata": {},
   "outputs": [],
   "source": [
    "# plot only the dominated models\n",
    "\n",
    "plt.figure(figsize = (10, 8))\n",
    "plt.scatter(model_summary[\"r2\"], model_summary[\"mae_diff\"])\n",
    "\n",
    "# unmitigated random forest\n",
    "# plt.scatter(model_summary.loc[\"random_forest\", \"r2\"], model_summary.loc[\"random_forest\", \"mae_diff\"], color = 'black')\n",
    "plt.text(model_summary.loc[\"random_forest\", \"r2\"], model_summary.loc[\"random_forest\", \"mae_diff\"], \"Umitigated RF\", color = 'black')\n",
    "\n",
    "# exponentiated gradient\n",
    "# plt.scatter(model_summary.loc[\"random_forest\", \"r2\"], model_summary.loc[\"random_forest\", \"mae_diff\"], color = 'black')\n",
    "plt.text(model_summary.loc[\"exp_grad\", \"r2\"], model_summary.loc[\"exp_grad\", \"mae_diff\"], \"Exp Grad\", color = 'black')\n",
    "\n",
    "# plt.scatter(metric_frame_eg.overall['R^2'], metric_frame_eg.difference()['MAE'], color = 'green')\n",
    "plt.text(model_summary.loc[\"grid_search\", \"r2\"], model_summary.loc[\"grid_search\", \"mae_diff\"], \"Grid search\", color = 'black')\n",
    "\n",
    "\n",
    "plt.scatter(fairst_summary_plt[\"r2\"], fairst_summary_plt[\"mae_diff\"])\n",
    "\n",
    "for index, row in fairst_summary_plt.iterrows():\n",
    "    plt.text(row[\"r2\"], row[\"mae_diff\"], \"fairST (λ = {})\".format(str(row[\"lambda\"])))\n",
    "\n",
    "\n",
    "plt.xlabel(\"R^2\", fontsize = 15)\n",
    "plt.ylabel(\"MAE Difference\", fontsize = 15)\n",
    "plt.title(CITY + \"Model visualization with fairST\", fontsize = 15)\n",
    "# plt.xlim((0.806, 0.811))\n",
    "# plt.savefig(os.path.join(save_dir_fairst, CITY + \"models_scatter_res\"))"
   ]
  },
  {
   "cell_type": "markdown",
   "metadata": {},
   "source": [
    "### visualize"
   ]
  },
  {
   "cell_type": "code",
   "execution_count": 16,
   "metadata": {},
   "outputs": [],
   "source": [
    "gt_final_year = gt_final_m.groupby(by = \"cell_num\").sum()[\"outflow\"].to_frame().reset_index()\n",
    "pred_final_year = pred_final_m.groupby(by = \"cell_num\").sum()[\"outflow\"].to_frame().reset_index()\n",
    "\n",
    "gt_final_year = gt_final_year.merge(pos_info)\n",
    "pred_final_year = pred_final_year.merge(pos_info)\n",
    "\n",
    "for row, col in gt_final_year.iterrows():\n",
    "    gt_final_year.at[row, 'geometry'] = shapely.wkt.loads(gt_final_year.loc[row]['geometry'])\n",
    "for row, col in pred_final_year.iterrows():\n",
    "    pred_final_year.at[row, 'geometry'] = shapely.wkt.loads(pred_final_year.loc[row]['geometry'])"
   ]
  },
  {
   "cell_type": "code",
   "execution_count": 17,
   "metadata": {},
   "outputs": [],
   "source": [
    "pred_final_year.to_csv(os.path.join(save_dir_fairst, \"fairst_pred.csv\"))"
   ]
  },
  {
   "cell_type": "code",
   "execution_count": 18,
   "metadata": {},
   "outputs": [
    {
     "data": {
      "image/png": "[encoded data removed]",
      "text/plain": [
       "<Figure size 864x576 with 2 Axes>"
      ]
     },
     "metadata": {},
     "output_type": "display_data"
    }
   ],
   "source": [
    "pred_final_year = gpd.GeoDataFrame(pred_final_year, crs='EPSG:2956', geometry='geometry')\n",
    "# type(pgh_grid_income.loc[0]['geometry'])\n",
    "\n",
    "pred_final_year.plot(column=\"outflow\", cmap='Blues',edgecolor = \"grey\", figsize=(12, 8),  \n",
    "                    legend = True, legend_kwds={'label': \"outflow\", 'orientation': \"horizontal\"})\n",
    "plt.title(\"fairST(lambda: {}) prediction in 2019\".format(str(LAMBDA)), fontsize=20)\n",
    "plt.savefig(os.path.join(save_dir_fairst, FOLDER, CITY + \"fairst_2019_pred\"))"
   ]
  },
  {
   "cell_type": "code",
   "execution_count": null,
   "metadata": {},
   "outputs": [],
   "source": []
  },
  {
   "cell_type": "markdown",
   "metadata": {},
   "source": [
    "## analysis\n",
    "### run below after have run all model and save to files"
   ]
  },
  {
   "cell_type": "code",
   "execution_count": 3,
   "metadata": {},
   "outputs": [],
   "source": [
    "plt.figure(figsize = (10, 8))\n",
    "plt.scatter(fairst_summary[\"r2\"], fairst_summary[\"mae\"])\n",
    "\n",
    "for idx, row in fairst_summary.iterrows():\n",
    "    plt.text(row[\"r2\"], row[\"mae\"], \"λ = \" + str(row[\"lambda\"]) + \"; e = \" + str(int(row[\"epoch\"])), size = 12)\n",
    "\n",
    "plt.xlabel(\"R^2\", fontsize = 15)\n",
    "plt.ylabel(\"MAE\", fontsize = 15)"
   ]
  },
  {
   "cell_type": "code",
   "execution_count": 2,
   "metadata": {},
   "outputs": [],
   "source": [
    "plt.figure(figsize = (10, 8))\n",
    "plt.scatter(fairst_summary[\"mae_diff\"], fairst_summary[\"rfg\"])\n",
    "\n",
    "for idx, row in fairst_summary.iterrows():\n",
    "    plt.text(row[\"mae_diff\"], row[\"rfg\"], \"λ = \" + str(row[\"lambda\"]) + \"; e = \" + str(int(row[\"epoch\"])), size = 12)\n",
    "\n",
    "plt.xlabel(\"mae_diff\", fontsize = 15)\n",
    "plt.ylabel(\"rfg\", fontsize = 15)"
   ]
  },
  {
   "cell_type": "code",
   "execution_count": 1,
   "metadata": {},
   "outputs": [],
   "source": [
    "plt.figure(figsize = (10, 8))\n",
    "plt.scatter(fairst_summary[\"r2\"], fairst_summary[\"mae_diff\"])\n",
    "\n",
    "for idx, row in fairst_summary.iterrows():\n",
    "    plt.text(row[\"r2\"], row[\"mae_diff\"], \"λ = \" + str(row[\"lambda\"]) + \"; e = \" + str(int(row[\"epoch\"])), size = 12)\n",
    "\n",
    "plt.xlabel(\"r2\", fontsize = 15)\n",
    "plt.ylabel(\"mae_diff\", fontsize = 15)"
   ]
  },
  {
   "cell_type": "markdown",
   "metadata": {},
   "source": [
    "### plot"
   ]
  },
  {
   "cell_type": "code",
   "execution_count": 23,
   "metadata": {},
   "outputs": [
    {
     "data": {
      "text/plain": [
       "epoch       120.000000\n",
       "lambda        0.200000\n",
       "r2            0.631441\n",
       "r2_diff       0.093123\n",
       "mae          51.207294\n",
       "mae_diff     24.040055\n",
       "rfg          22.705779\n",
       "Name: 6, dtype: float64"
      ]
     },
     "execution_count": 23,
     "metadata": {},
     "output_type": "execute_result"
    }
   ],
   "source": [
    "fairst_summary_plt = fairst_summary.iloc[6]\n",
    "fairst_summary_plt"
   ]
  },
  {
   "cell_type": "code",
   "execution_count": 24,
   "metadata": {},
   "outputs": [
    {
     "data": {
      "image/png": "[encoded data removed]",
      "text/plain": [
       "<Figure size 720x576 with 1 Axes>"
      ]
     },
     "metadata": {},
     "output_type": "display_data"
    }
   ],
   "source": [
    "# plot only the dominated models\n",
    "\n",
    "plt.figure(figsize = (10, 8))\n",
    "plt.scatter(model_summary[\"r2\"], model_summary[\"mae_diff\"])\n",
    "\n",
    "# unmitigated random forest\n",
    "# plt.scatter(model_summary.loc[\"random_forest\", \"r2\"], model_summary.loc[\"random_forest\", \"mae_diff\"], color = 'black')\n",
    "plt.text(model_summary.loc[\"random_forest\", \"r2\"], model_summary.loc[\"random_forest\", \"mae_diff\"], \"Umitigated RF\", color = 'black', size = 13)\n",
    "\n",
    "# exponentiated gradient\n",
    "# plt.scatter(model_summary.loc[\"random_forest\", \"r2\"], model_summary.loc[\"random_forest\", \"mae_diff\"], color = 'black')\n",
    "plt.text(model_summary.loc[\"exp_grad\", \"r2\"], model_summary.loc[\"exp_grad\", \"mae_diff\"], \"Exp Grad\", color = 'black', size = 13)\n",
    "\n",
    "# plt.scatter(metric_frame_eg.overall['R^2'], metric_frame_eg.difference()['MAE'], color = 'green')\n",
    "plt.text(model_summary.loc[\"grid_search\", \"r2\"], model_summary.loc[\"grid_search\", \"mae_diff\"], \"Grid search\", color = 'black', size = 13)\n",
    "\n",
    "plt.scatter(fairst_summary_plt[\"r2\"], fairst_summary_plt[\"mae_diff\"])\n",
    "\n",
    "plt.text(fairst_summary_plt[\"r2\"], fairst_summary_plt[\"mae_diff\"], \"FairST (λ = {})\".format(str(fairst_summary_plt[\"lambda\"])), size = 13)\n",
    "\n",
    "\n",
    "plt.xlabel(\"R^2\", fontsize = 15)\n",
    "plt.ylabel(\"MAE Difference\", fontsize = 15)\n",
    "plt.title(CITY + \"Model visualization with fairST\", fontsize = 20)\n",
    "# plt.xlim((0.806, 0.811))\n",
    "plt.savefig(os.path.join(save_dir_fairst, CITY + \"models_scatter_res\"))"
   ]
  },
  {
   "cell_type": "code",
   "execution_count": null,
   "metadata": {},
   "outputs": [],
   "source": []
  },
  {
   "cell_type": "code",
   "execution_count": null,
   "metadata": {},
   "outputs": [],
   "source": []
  }
 ],
 "metadata": {
  "kernelspec": {
   "display_name": "Python 3",
   "language": "python",
   "name": "python3"
  },
  "language_info": {
   "codemirror_mode": {
    "name": "ipython",
    "version": 3
   },
   "file_extension": ".py",
   "mimetype": "text/x-python",
   "name": "python",
   "nbconvert_exporter": "python",
   "pygments_lexer": "ipython3",
   "version": "3.7.6"
  }
 },
 "nbformat": 4,
 "nbformat_minor": 4
}
