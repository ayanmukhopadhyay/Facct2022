{
 "cells": [
  {
   "cell_type": "code",
   "execution_count": 8,
   "metadata": {},
   "outputs": [],
   "source": [
    "import os\n",
    "import pandas as pd\n",
    "import numpy as np\n",
    "from sklearn.metrics import mean_absolute_error, r2_score\n",
    "from fairlearn.metrics import MetricFrame\n",
    "from sklearn import metrics as skm\n",
    "import seaborn as sns\n",
    "import os.path as path\n",
    "import matplotlib.pyplot as plt\n",
    "import geopandas as gpd\n",
    "from shapely.geometry import Point, Polygon\n",
    "import os, csv, shapely, shapely.wkt, descartes, geopy, pickle, cloudpickle\n",
    "from os import listdir\n",
    "from os.path import isfile, join\n",
    "pd.set_option('display.max_rows', 10)\n",
    "sns.set()\n",
    "sns.color_palette(\"ch:s=.25,rot=-.25\")\n",
    "np.set_printoptions(suppress=True)\n",
    "# pd.options.display.float_format = '{:.2f}'.format"
   ]
  },
  {
   "cell_type": "code",
   "execution_count": 34,
   "metadata": {},
   "outputs": [],
   "source": [
    "NUM_STATIONS_INC = 2"
   ]
  },
  {
   "cell_type": "code",
   "execution_count": 35,
   "metadata": {},
   "outputs": [],
   "source": [
    "# NEED MODIFY\n",
    "EPOCH = 120\n",
    "LAMBDA = 0.2\n",
    "FOLDER = 'fairst_all_models/e_120_lambda_0_2'\n",
    "PRED_FILE_NAME = \"inference_stations_2_fused_model_pred_0.2_1641298395.7021697.csv\"\n",
    "# # NEED MODIFY\n",
    "# EPOCH = 120\n",
    "# LAMBDA = 0.2\n",
    "# FOLDER = 'fairst_all_models/forecast_e_120_lambda_0_2'\n",
    "# PRED_FILE_NAME = \"fused_model_pred_0.2_1640929879.8990524.csv\""
   ]
  },
  {
   "cell_type": "code",
   "execution_count": 36,
   "metadata": {},
   "outputs": [],
   "source": [
    "CITY = \"P_\"\n",
    "save_dir = CITY + 'res/'\n",
    "save_dir_preprocess = os.path.join(save_dir, CITY + 'preprocess_fig/')\n",
    "save_dir_models = os.path.join(save_dir, CITY + 'model_res/') \n",
    "save_dir_forecast = os.path.join(save_dir, CITY + 'forecast/')\n",
    "save_dir_fairst = os.path.join(save_dir, CITY + 'fairst/')\n",
    "\n",
    "if not os.path.exists(save_dir):\n",
    "    os.makedirs(save_dir)\n",
    "    \n",
    "if not os.path.exists(save_dir_preprocess):\n",
    "    os.makedirs(save_dir_preprocess)\n",
    "\n",
    "if not os.path.exists(save_dir_models):\n",
    "    os.makedirs(save_dir_models)\n",
    "    \n",
    "if not os.path.exists(save_dir_forecast):\n",
    "    os.makedirs(save_dir_forecast)\n",
    "    \n",
    "if not os.path.exists(save_dir_fairst):\n",
    "    os.makedirs(save_dir_fairst)"
   ]
  },
  {
   "cell_type": "code",
   "execution_count": 37,
   "metadata": {},
   "outputs": [],
   "source": [
    "pred_df = pd.read_csv(os.path.join(save_dir_fairst, FOLDER, PRED_FILE_NAME), index_col = 0)\n",
    "\n",
    "pos_info = pd.read_csv(os.path.join(save_dir_fairst, \"df_demo.csv\"), index_col = 0)\n",
    "income_info = pd.read_csv(os.path.join(save_dir_fairst, \"df_income.csv\"), index_col = 0)\n",
    "income_info = income_info.groupby(by = \"cell_num\").mean().reset_index()\n",
    "income_info.income_group = income_info.income_group.astype(int)\n",
    "demo_raw = pd.read_csv(os.path.join(save_dir_fairst, \"demo_raw.csv\"))\n",
    "normalized_pop_df = pd.read_csv(os.path.join(save_dir_fairst, \"normalized_pop_df.csv\"), index_col = 0)\n",
    "stations_info = pd.read_csv(os.path.join(save_dir_fairst, \"pgh_grid_census.csv\"), index_col = 0)[[\"cell_num\", \"stations\"]]\n",
    "pred_df.index = pd.to_datetime(pred_df.index)\n"
   ]
  },
  {
   "cell_type": "code",
   "execution_count": 38,
   "metadata": {},
   "outputs": [],
   "source": [
    "# def df_transform(df):\n",
    "#     pos_l = df.columns\n",
    "#     df_trans = pd.DataFrame(columns = [\"pos\", \"outflow\"])\n",
    "\n",
    "#     for i in np.arange(len(pos_l)):\n",
    "#         pos = pos_l[i]\n",
    "#         temp = df[pos].to_frame()\n",
    "#         temp[\"pos\"] = [temp.columns.values[0]]*len(temp)\n",
    "#         temp.rename(columns = {pos: \"outflow\"}, inplace = True)\n",
    "#         df_trans = df_trans.append(temp)\n",
    "        \n",
    "#     return df_trans"
   ]
  },
  {
   "cell_type": "code",
   "execution_count": 39,
   "metadata": {},
   "outputs": [],
   "source": [
    "# # original\n",
    "# pred_df_month = pred_df.groupby(pred_df.index.month).sum()\n",
    "# df_pred_trans = df_transform(pred_df_month)\n",
    "# df_pred_trans_m = df_pred_trans.groupby(\"pos\").sum().reset_index()\n",
    "# pred_final = df_pred_trans_m.merge(pos_info)\n",
    "# pred_final_m = pred_final.merge(income_info, on = 'cell_num')\n",
    "# for row, col in pred_final_m.iterrows():\n",
    "#     pred_final_m.at[row, 'geometry'] = shapely.wkt.loads(pred_final_m.loc[row]['geometry'])\n",
    "# pred_final_m = gpd.GeoDataFrame(pred_final_m, crs='EPSG:2956', geometry='geometry')"
   ]
  },
  {
   "cell_type": "code",
   "execution_count": 40,
   "metadata": {},
   "outputs": [],
   "source": [
    "# # add 1\n",
    "# pred_df_month_1 = pred_df_1.groupby(pred_df_1.index.month).sum()\n",
    "# df_pred_trans_1 = df_transform(pred_df_month_1)\n",
    "# df_pred_trans_m_1 = df_pred_trans_1.groupby(\"pos\").sum().reset_index()\n",
    "# pred_final_1 = df_pred_trans_m_1.merge(pos_info)\n",
    "# pred_final_m_1 = pred_final_1.merge(income_info, on = 'cell_num')\n",
    "\n",
    "# for row, col in pred_final_m_1.iterrows():\n",
    "#     pred_final_m_1.at[row, 'geometry'] = shapely.wkt.loads(pred_final_m_1.loc[row]['geometry'])\n",
    "    \n",
    "# pred_final_m_1 = gpd.GeoDataFrame(pred_final_m_1, crs='EPSG:2956', geometry='geometry')"
   ]
  },
  {
   "cell_type": "code",
   "execution_count": 41,
   "metadata": {},
   "outputs": [],
   "source": [
    "# pred_final_m.plot(column=\"outflow\", cmap='Blues',edgecolor = \"grey\", figsize=(8, 10),  \n",
    "#                     legend = True, legend_kwds={'label': \"outflow\",'orientation': \"horizontal\"})\n",
    "# plt.title(\"fairST\\n(before add 1 station)\", fontsize=20)"
   ]
  },
  {
   "cell_type": "code",
   "execution_count": 42,
   "metadata": {},
   "outputs": [],
   "source": [
    "# pred_final_m_1.plot(column=\"outflow\", cmap='Blues',edgecolor = \"grey\", figsize=(8, 10),  \n",
    "#                     legend = True, legend_kwds={'label': \"outflow\",'orientation': \"horizontal\"})\n",
    "# plt.title(\"Unmitigated random forest forecast\\n(before add 1 station)\", fontsize=20)"
   ]
  },
  {
   "cell_type": "markdown",
   "metadata": {},
   "source": [
    "### calc"
   ]
  },
  {
   "cell_type": "code",
   "execution_count": 43,
   "metadata": {},
   "outputs": [],
   "source": [
    "# def forecast_res_calc(final_res):\n",
    "#     diff_col = final_res.columns[-3]\n",
    "#     # print(diff_col)\n",
    "    \n",
    "#     high_inc = final_res[final_res[\"income_group\"] == 1]\n",
    "#     high_inc_sum_diff = (high_inc[\"outflow_diff\"] / high_inc[\"stations\"]).sum()\n",
    "#     high_inc_sum_diff_avg = high_inc_sum_diff/len(high_inc)\n",
    "    \n",
    "#     low_inc = final_res[final_res[\"income_group\"] == 0]\n",
    "#     low_inc_sum_diff = (low_inc[\"outflow_diff\"] / low_inc[\"stations\"]).sum()\n",
    "#     low_inc_sum_diff_avg = low_inc_sum_diff/len(low_inc)\n",
    "    \n",
    "# #     print(high_inc_sum_diff_avg)\n",
    "# #     print(low_inc_sum_diff_avg)\n",
    "#     diff = high_inc_sum_diff_avg - low_inc_sum_diff_avg\n",
    "#     ratio = low_inc_sum_diff_avg / high_inc_sum_diff_avg\n",
    "    \n",
    "#     return high_inc_sum_diff_avg, low_inc_sum_diff_avg, diff, ratio"
   ]
  },
  {
   "cell_type": "code",
   "execution_count": 44,
   "metadata": {},
   "outputs": [],
   "source": [
    "# pred_final_m = pred_final_m.sort_values('cell_num')\n",
    "# pred_final_m_1 = pred_final_m_1.sort_values('cell_num')\n",
    "\n",
    "# final_res = pd.DataFrame(columns = ['pos', 'outflow_before', 'outflow_after', \"outflow_diff\", \"cell_num\", \"income_group\", \"geometry\"])\n",
    "\n",
    "# final_res['pos'] = pred_final_m.pos\n",
    "# final_res['outflow_before'] = pred_final_m.outflow\n",
    "# final_res['outflow_after'] = pred_final_m_1.outflow\n",
    "# final_res['outflow_diff'] = pred_final_m_1.outflow - pred_final_m.outflow\n",
    "# final_res['cell_num'] = pred_final_m.cell_num\n",
    "# final_res['income_group'] = pred_final_m.income_group\n",
    "# final_res['geometry'] = pred_final_m.geometry\n",
    "# final_res = final_res.merge(stations_info, on = 'cell_num')\n",
    "# final_res.stations += NUM_STATIONS_ADDED"
   ]
  },
  {
   "cell_type": "code",
   "execution_count": 45,
   "metadata": {},
   "outputs": [],
   "source": [
    "# # for row, col in final_res.iterrows():\n",
    "# #     final_res.at[row, 'geometry'] = shapely.wkt.loads(final_res.loc[row]['geometry'])\n",
    "    \n",
    "# final_res = gpd.GeoDataFrame(final_res, crs='EPSG:2956', geometry='geometry')"
   ]
  },
  {
   "cell_type": "code",
   "execution_count": 46,
   "metadata": {},
   "outputs": [],
   "source": [
    "# final_res.plot(column=\"outflow_diff\", cmap='Blues',edgecolor = \"grey\", figsize=(8, 10),  \n",
    "#                     legend = True, legend_kwds={'label': \"outflow\",'orientation': \"horizontal\"})\n",
    "# plt.title(\"Unmitigated random forest forecast\\n(before add 1 station)\", fontsize=20)"
   ]
  },
  {
   "cell_type": "markdown",
   "metadata": {},
   "source": [
    "___"
   ]
  },
  {
   "cell_type": "code",
   "execution_count": 47,
   "metadata": {},
   "outputs": [],
   "source": [
    "def df_transform(df):\n",
    "    pos_l = df.columns\n",
    "    df_trans = pd.DataFrame(columns = [\"pos\", \"outflow\"])\n",
    "\n",
    "    for i in np.arange(len(pos_l)):\n",
    "        pos = pos_l[i]\n",
    "        temp = df[pos].to_frame()\n",
    "        temp[\"pos\"] = [temp.columns.values[0]]*len(temp)\n",
    "        temp.rename(columns = {pos: \"outflow\"}, inplace = True)\n",
    "        df_trans = df_trans.append(temp)\n",
    "        \n",
    "    return df_trans"
   ]
  },
  {
   "cell_type": "code",
   "execution_count": 48,
   "metadata": {},
   "outputs": [],
   "source": [
    "pred_df_month = pred_df.groupby(pred_df.index.month).sum()"
   ]
  },
  {
   "cell_type": "code",
   "execution_count": 50,
   "metadata": {},
   "outputs": [],
   "source": [
    "df_transform_m = df_transform(pred_df_month).groupby('pos').sum()\n",
    "df_transform_m = df_transform_m.reset_index()"
   ]
  },
  {
   "cell_type": "code",
   "execution_count": 51,
   "metadata": {},
   "outputs": [],
   "source": [
    "# df_pred_trans = df_transform(pred_df_month)\n",
    "pred_final = df_transform_m.merge(pos_info)\n",
    "\n",
    "pred_final_m = pred_final.merge(income_info, on = 'cell_num')"
   ]
  },
  {
   "cell_type": "code",
   "execution_count": 52,
   "metadata": {},
   "outputs": [
    {
     "data": {
      "text/html": [
       "<div>\n",
       "<style scoped>\n",
       "    .dataframe tbody tr th:only-of-type {\n",
       "        vertical-align: middle;\n",
       "    }\n",
       "\n",
       "    .dataframe tbody tr th {\n",
       "        vertical-align: top;\n",
       "    }\n",
       "\n",
       "    .dataframe thead th {\n",
       "        text-align: right;\n",
       "    }\n",
       "</style>\n",
       "<table border=\"1\" class=\"dataframe\">\n",
       "  <thead>\n",
       "    <tr style=\"text-align: right;\">\n",
       "      <th></th>\n",
       "      <th>pos</th>\n",
       "      <th>outflow</th>\n",
       "      <th>cell_num</th>\n",
       "      <th>geometry</th>\n",
       "      <th>income_group</th>\n",
       "    </tr>\n",
       "  </thead>\n",
       "  <tbody>\n",
       "    <tr>\n",
       "      <th>0</th>\n",
       "      <td>10_14</td>\n",
       "      <td>0.000000</td>\n",
       "      <td>334</td>\n",
       "      <td>POLYGON ((-80.05401960776868 40.42588145854761...</td>\n",
       "      <td>1</td>\n",
       "    </tr>\n",
       "    <tr>\n",
       "      <th>1</th>\n",
       "      <td>10_15</td>\n",
       "      <td>0.002862</td>\n",
       "      <td>335</td>\n",
       "      <td>POLYGON ((-80.05401960776868 40.43047224708476...</td>\n",
       "      <td>1</td>\n",
       "    </tr>\n",
       "    <tr>\n",
       "      <th>2</th>\n",
       "      <td>10_16</td>\n",
       "      <td>0.000000</td>\n",
       "      <td>336</td>\n",
       "      <td>POLYGON ((-80.05401960776868 40.43506303562191...</td>\n",
       "      <td>1</td>\n",
       "    </tr>\n",
       "    <tr>\n",
       "      <th>3</th>\n",
       "      <td>10_17</td>\n",
       "      <td>0.000000</td>\n",
       "      <td>337</td>\n",
       "      <td>POLYGON ((-80.05401960776868 40.43965382415906...</td>\n",
       "      <td>1</td>\n",
       "    </tr>\n",
       "    <tr>\n",
       "      <th>4</th>\n",
       "      <td>10_18</td>\n",
       "      <td>0.000000</td>\n",
       "      <td>338</td>\n",
       "      <td>POLYGON ((-80.05401960776868 40.44424461269621...</td>\n",
       "      <td>0</td>\n",
       "    </tr>\n",
       "    <tr>\n",
       "      <th>...</th>\n",
       "      <td>...</td>\n",
       "      <td>...</td>\n",
       "      <td>...</td>\n",
       "      <td>...</td>\n",
       "      <td>...</td>\n",
       "    </tr>\n",
       "    <tr>\n",
       "      <th>723</th>\n",
       "      <td>9_17</td>\n",
       "      <td>0.000000</td>\n",
       "      <td>305</td>\n",
       "      <td>POLYGON ((-80.05861039630584 40.43965382415906...</td>\n",
       "      <td>1</td>\n",
       "    </tr>\n",
       "    <tr>\n",
       "      <th>724</th>\n",
       "      <td>9_18</td>\n",
       "      <td>0.000000</td>\n",
       "      <td>306</td>\n",
       "      <td>POLYGON ((-80.05861039630584 40.44424461269621...</td>\n",
       "      <td>0</td>\n",
       "    </tr>\n",
       "    <tr>\n",
       "      <th>725</th>\n",
       "      <td>9_19</td>\n",
       "      <td>0.000000</td>\n",
       "      <td>307</td>\n",
       "      <td>POLYGON ((-80.05861039630584 40.44883540123336...</td>\n",
       "      <td>0</td>\n",
       "    </tr>\n",
       "    <tr>\n",
       "      <th>726</th>\n",
       "      <td>9_20</td>\n",
       "      <td>0.150453</td>\n",
       "      <td>308</td>\n",
       "      <td>POLYGON ((-80.05861039630584 40.45342618977051...</td>\n",
       "      <td>0</td>\n",
       "    </tr>\n",
       "    <tr>\n",
       "      <th>727</th>\n",
       "      <td>9_21</td>\n",
       "      <td>0.000000</td>\n",
       "      <td>309</td>\n",
       "      <td>POLYGON ((-80.05861039630584 40.45801697830766...</td>\n",
       "      <td>0</td>\n",
       "    </tr>\n",
       "  </tbody>\n",
       "</table>\n",
       "<p>728 rows × 5 columns</p>\n",
       "</div>"
      ],
      "text/plain": [
       "       pos   outflow  cell_num  \\\n",
       "0    10_14  0.000000       334   \n",
       "1    10_15  0.002862       335   \n",
       "2    10_16  0.000000       336   \n",
       "3    10_17  0.000000       337   \n",
       "4    10_18  0.000000       338   \n",
       "..     ...       ...       ...   \n",
       "723   9_17  0.000000       305   \n",
       "724   9_18  0.000000       306   \n",
       "725   9_19  0.000000       307   \n",
       "726   9_20  0.150453       308   \n",
       "727   9_21  0.000000       309   \n",
       "\n",
       "                                              geometry  income_group  \n",
       "0    POLYGON ((-80.05401960776868 40.42588145854761...             1  \n",
       "1    POLYGON ((-80.05401960776868 40.43047224708476...             1  \n",
       "2    POLYGON ((-80.05401960776868 40.43506303562191...             1  \n",
       "3    POLYGON ((-80.05401960776868 40.43965382415906...             1  \n",
       "4    POLYGON ((-80.05401960776868 40.44424461269621...             0  \n",
       "..                                                 ...           ...  \n",
       "723  POLYGON ((-80.05861039630584 40.43965382415906...             1  \n",
       "724  POLYGON ((-80.05861039630584 40.44424461269621...             0  \n",
       "725  POLYGON ((-80.05861039630584 40.44883540123336...             0  \n",
       "726  POLYGON ((-80.05861039630584 40.45342618977051...             0  \n",
       "727  POLYGON ((-80.05861039630584 40.45801697830766...             0  \n",
       "\n",
       "[728 rows x 5 columns]"
      ]
     },
     "execution_count": 52,
     "metadata": {},
     "output_type": "execute_result"
    }
   ],
   "source": [
    "pred_final_m"
   ]
  },
  {
   "cell_type": "code",
   "execution_count": 53,
   "metadata": {},
   "outputs": [],
   "source": [
    "pred_final_m.to_csv(os.path.join(save_dir_fairst, \"fairst_forecast_inc_{}.csv\".format(NUM_STATIONS_INC)))"
   ]
  },
  {
   "cell_type": "code",
   "execution_count": null,
   "metadata": {},
   "outputs": [],
   "source": []
  },
  {
   "cell_type": "code",
   "execution_count": null,
   "metadata": {},
   "outputs": [],
   "source": []
  }
 ],
 "metadata": {
  "kernelspec": {
   "display_name": "Python 3",
   "language": "python",
   "name": "python3"
  },
  "language_info": {
   "codemirror_mode": {
    "name": "ipython",
    "version": 3
   },
   "file_extension": ".py",
   "mimetype": "text/x-python",
   "name": "python",
   "nbconvert_exporter": "python",
   "pygments_lexer": "ipython3",
   "version": "3.7.6"
  }
 },
 "nbformat": 4,
 "nbformat_minor": 4
}
