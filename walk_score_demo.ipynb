{
 "cells": [
  {
   "cell_type": "markdown",
   "metadata": {},
   "source": [
    "### Instructions for downloading the WalkScore data"
   ]
  },
  {
   "cell_type": "markdown",
   "metadata": {},
   "source": [
    "1. Convert **_latitude_** and **_longitude_** to **_address_**. We used the library `MapQuest: Open Search (Nominatim)` here, while others also work.<br>\n",
    "\n",
    "> Steps for using _**MapQuest**_: <br>\n",
    "> ~~_\\*May need to install the `MapQuest` package (eg. ``pip install mapquest``)._~~<br>\n",
    "> 1) Get free API key through [MapQuest website](https://developer.mapquest.com/), which can be used to make requests to MapQuest services.<br>\n",
    "> 2) Refer to the steps provide in [Nominatim Documentation](https://developer.mapquest.com/documentation/open/nominatim-search/) and [Nominatim Reverse Geocode Example](https://developer.mapquest.com/documentation/geocoding-api/reverse/get/) for  requesting the address by lat & lon. Our demo code is given below.\n",
    ">> \"The Reverse Geocode works by using the Open Search (Nominatim) API to reverse geocode. This is the process where you begin with a geographic coordinate and the nearest known address is returned.\"<br>\n",
    ">> Call required parameters: `lon`, `lat`, `API_key`"
   ]
  },
  {
   "cell_type": "markdown",
   "metadata": {},
   "source": [
    "2. Convert the address to the walk scores through `WalkScore`. <br>\n",
    "\n",
    "> Steps for using _**WalkScore**_:<br>\n",
    "~~_\\*May need to install the `WalkScore` package (eg. `pip install walkscore-api`)._~~ <br>\n",
    "> 1) Get free API key by signing up through [WalkScore API sign up](https://www.walkscore.com/professional/api-sign-up.php). <br>\n",
    "> 2) Refer to the steps provided in [Walk Score API Docs](https://www.walkscore.com/professional/api.php) for request URL and sample codes. Our demo code is also given below.\n",
    ">> \"This API returns the Walk Score, Transit Score and Bike Score for any location.\" <br>\n",
    ">> Call required parameters: `lon`, `lat`, `address`, `API_key`"
   ]
  },
  {
   "cell_type": "code",
   "execution_count": null,
   "metadata": {},
   "outputs": [],
   "source": [
    "'''demo code for reversing lat & lon'''\n",
    "import requests\n",
    "\n",
    "addr_key = 'Your_API_Key'\n",
    "\n",
    "address_api_url = 'http://open.mapquestapi.com/nominatim/v1/reverse.php?key={}&format=json&lat={}&lon={}'.format(key, lat, lon)\n",
    "response = requests.get(address_api_url)\n",
    "\n",
    "# return address\n",
    "address = response.json()['display_name']"
   ]
  },
  {
   "cell_type": "code",
   "execution_count": null,
   "metadata": {},
   "outputs": [],
   "source": [
    "'''demo code for requesting the walk score'''\n",
    "\n",
    "score_key = 'Your_API_Key'\n",
    "\n",
    "# Set transit = 1 to request Transit Score\n",
    "# Set bike = 1 to request Bike Score\n",
    "api_url = ('https://api.walkscore.com/score?format=json&address={}&lat={}&lon={}'\n",
    "            '&transit={}&bike={}&wsapikey={}'.format(address, lat, lon, 1, 1, score_key))\n",
    "\n",
    "response = requests.get(api_url)\n",
    "scores = response.json()"
   ]
  }
 ],
 "metadata": {
  "kernelspec": {
   "display_name": "Python 3",
   "language": "python",
   "name": "python3"
  },
  "language_info": {
   "codemirror_mode": {
    "name": "ipython",
    "version": 3
   },
   "file_extension": ".py",
   "mimetype": "text/x-python",
   "name": "python",
   "nbconvert_exporter": "python",
   "pygments_lexer": "ipython3",
   "version": "3.7.6"
  }
 },
 "nbformat": 4,
 "nbformat_minor": 4
}
